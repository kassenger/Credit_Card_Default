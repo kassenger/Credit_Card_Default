{
 "cells": [
  {
   "cell_type": "code",
   "execution_count": 2,
   "metadata": {
    "ExecuteTime": {
     "end_time": "2020-02-27T06:51:32.407381Z",
     "start_time": "2020-02-27T06:51:23.326588Z"
    }
   },
   "outputs": [
    {
     "name": "stderr",
     "output_type": "stream",
     "text": [
      "Using TensorFlow backend.\n",
      "/Users/luyuankong/anaconda3/envs/metis/lib/python3.7/site-packages/tensorflow/python/framework/dtypes.py:526: FutureWarning: Passing (type, 1) or '1type' as a synonym of type is deprecated; in a future version of numpy, it will be understood as (type, (1,)) / '(1,)type'.\n",
      "  _np_qint8 = np.dtype([(\"qint8\", np.int8, 1)])\n",
      "/Users/luyuankong/anaconda3/envs/metis/lib/python3.7/site-packages/tensorflow/python/framework/dtypes.py:527: FutureWarning: Passing (type, 1) or '1type' as a synonym of type is deprecated; in a future version of numpy, it will be understood as (type, (1,)) / '(1,)type'.\n",
      "  _np_quint8 = np.dtype([(\"quint8\", np.uint8, 1)])\n",
      "/Users/luyuankong/anaconda3/envs/metis/lib/python3.7/site-packages/tensorflow/python/framework/dtypes.py:528: FutureWarning: Passing (type, 1) or '1type' as a synonym of type is deprecated; in a future version of numpy, it will be understood as (type, (1,)) / '(1,)type'.\n",
      "  _np_qint16 = np.dtype([(\"qint16\", np.int16, 1)])\n",
      "/Users/luyuankong/anaconda3/envs/metis/lib/python3.7/site-packages/tensorflow/python/framework/dtypes.py:529: FutureWarning: Passing (type, 1) or '1type' as a synonym of type is deprecated; in a future version of numpy, it will be understood as (type, (1,)) / '(1,)type'.\n",
      "  _np_quint16 = np.dtype([(\"quint16\", np.uint16, 1)])\n",
      "/Users/luyuankong/anaconda3/envs/metis/lib/python3.7/site-packages/tensorflow/python/framework/dtypes.py:530: FutureWarning: Passing (type, 1) or '1type' as a synonym of type is deprecated; in a future version of numpy, it will be understood as (type, (1,)) / '(1,)type'.\n",
      "  _np_qint32 = np.dtype([(\"qint32\", np.int32, 1)])\n",
      "/Users/luyuankong/anaconda3/envs/metis/lib/python3.7/site-packages/tensorflow/python/framework/dtypes.py:535: FutureWarning: Passing (type, 1) or '1type' as a synonym of type is deprecated; in a future version of numpy, it will be understood as (type, (1,)) / '(1,)type'.\n",
      "  np_resource = np.dtype([(\"resource\", np.ubyte, 1)])\n"
     ]
    }
   ],
   "source": [
    "import numpy as np\n",
    "import pandas as pd\n",
    "\n",
    "from sklearn.linear_model import LinearRegression, Lasso, LassoCV, Ridge, RidgeCV, ElasticNet, ElasticNetCV\n",
    "import statsmodels.api as sm\n",
    "import statsmodels.formula.api as smf\n",
    "import patsy\n",
    "\n",
    "from sklearn.linear_model import LogisticRegression\n",
    "from sklearn.neighbors import KNeighborsClassifier\n",
    "from sklearn.naive_bayes import GaussianNB, BernoulliNB, MultinomialNB\n",
    "from sklearn.tree import DecisionTreeClassifier\n",
    "from sklearn.ensemble import RandomForestClassifier\n",
    "from sklearn.svm import LinearSVC, SVC\n",
    "\n",
    "from sklearn import metrics\n",
    "from sklearn.metrics import confusion_matrix, classification_report\n",
    "from sklearn.metrics import accuracy_score, precision_score, recall_score, f1_score, log_loss\n",
    "from sklearn.metrics import auc, roc_curve, roc_auc_score, precision_recall_curve\n",
    "from sklearn.metrics import fbeta_score, cohen_kappa_score\n",
    "\n",
    "from imblearn.over_sampling import SMOTE \n",
    "from imblearn import under_sampling, over_sampling\n",
    "from sklearn.model_selection import StratifiedKFold\n",
    "import xgboost as xgb\n",
    "from collections import defaultdict\n",
    "from xgboost import XGBClassifier\n",
    "from sklearn import preprocessing\n",
    "from sklearn import svm\n",
    "\n",
    "from sklearn.preprocessing import StandardScaler\n",
    "\n",
    "from sklearn.model_selection import KFold, cross_val_score, GridSearchCV\n",
    "from sklearn.model_selection import train_test_split\n",
    "\n",
    "\n",
    "import time\n",
    "import pickle\n",
    "\n",
    "import seaborn as sns\n",
    "import matplotlib.pyplot as plt\n",
    "\n",
    "from collections import Counter \n",
    "\n",
    "%matplotlib inline\n",
    "\n",
    "import shap"
   ]
  },
  {
   "cell_type": "markdown",
   "metadata": {},
   "source": [
    "# Load the data"
   ]
  },
  {
   "cell_type": "code",
   "execution_count": 2,
   "metadata": {
    "ExecuteTime": {
     "end_time": "2020-02-12T04:30:25.936477Z",
     "start_time": "2020-02-12T04:30:25.906901Z"
    }
   },
   "outputs": [],
   "source": [
    "#pickle the df we cleaned up earlier\n",
    "with open(\"clean_df.pickle\", \"rb\") as f:\n",
    "    clean_df = pickle.load(f)"
   ]
  },
  {
   "cell_type": "code",
   "execution_count": 3,
   "metadata": {
    "ExecuteTime": {
     "end_time": "2020-02-12T04:30:25.959391Z",
     "start_time": "2020-02-12T04:30:25.942244Z"
    }
   },
   "outputs": [],
   "source": [
    "# reorder the columns by numerical and categorical\n",
    "\n",
    "clean_df = clean_df[['gender', 'graduate school', 'high school', 'university',\n",
    "       'married', 'single' ,'count_pay_duly', 'age','limit_bal','bill_amt1',\n",
    "       'bill_amt2', 'bill_amt3', 'bill_amt4', 'bill_amt5', 'bill_amt6',\n",
    "       'pay_amt1', 'pay_amt2', 'pay_amt3', 'pay_amt4', 'pay_amt5', 'pay_amt6','default']]"
   ]
  },
  {
   "cell_type": "code",
   "execution_count": 4,
   "metadata": {
    "ExecuteTime": {
     "end_time": "2020-02-12T04:30:25.991817Z",
     "start_time": "2020-02-12T04:30:25.968526Z"
    }
   },
   "outputs": [
    {
     "data": {
      "text/plain": [
       "Index(['gender', 'graduate school', 'high school', 'university', 'married',\n",
       "       'single', 'count_pay_duly', 'age', 'limit_bal', 'bill_amt1',\n",
       "       'bill_amt2', 'bill_amt3', 'bill_amt4', 'bill_amt5', 'bill_amt6',\n",
       "       'pay_amt1', 'pay_amt2', 'pay_amt3', 'pay_amt4', 'pay_amt5', 'pay_amt6',\n",
       "       'default'],\n",
       "      dtype='object')"
      ]
     },
     "execution_count": 4,
     "metadata": {},
     "output_type": "execute_result"
    }
   ],
   "source": [
    "clean_df.columns"
   ]
  },
  {
   "cell_type": "code",
   "execution_count": 5,
   "metadata": {
    "ExecuteTime": {
     "end_time": "2020-02-12T04:30:26.888944Z",
     "start_time": "2020-02-12T04:30:26.011586Z"
    }
   },
   "outputs": [],
   "source": [
    "clean_df.to_csv(r'p3.csv', index=False) "
   ]
  },
  {
   "cell_type": "markdown",
   "metadata": {},
   "source": [
    "# Preprocessing the data"
   ]
  },
  {
   "cell_type": "code",
   "execution_count": 26,
   "metadata": {
    "ExecuteTime": {
     "end_time": "2020-02-12T04:43:36.608253Z",
     "start_time": "2020-02-12T04:43:36.589630Z"
    }
   },
   "outputs": [],
   "source": [
    "X = clean_df.iloc[:,:-1]\n",
    "y = clean_df.iloc[:,-1:]\n"
   ]
  },
  {
   "cell_type": "code",
   "execution_count": 27,
   "metadata": {
    "ExecuteTime": {
     "end_time": "2020-02-12T04:43:37.120076Z",
     "start_time": "2020-02-12T04:43:36.916926Z"
    }
   },
   "outputs": [],
   "source": [
    "X_train, X_test, y_train, y_test = train_test_split(X,\n",
    "                                                    y,\n",
    "                                                    test_size=0.2,\n",
    "                                                    random_state=42,\n",
    "                                                    stratify=y)"
   ]
  },
  {
   "cell_type": "code",
   "execution_count": 28,
   "metadata": {
    "ExecuteTime": {
     "end_time": "2020-02-12T04:43:37.148586Z",
     "start_time": "2020-02-12T04:43:37.141486Z"
    }
   },
   "outputs": [],
   "source": [
    "# StandardScaler that implements the Transformer API to compute the mean and standard deviation on a training set \n",
    "#so as to be able to later reapply the same transformation on the testing set\n",
    "scaler = StandardScaler()"
   ]
  },
  {
   "cell_type": "code",
   "execution_count": 29,
   "metadata": {
    "ExecuteTime": {
     "end_time": "2020-02-12T04:43:37.512537Z",
     "start_time": "2020-02-12T04:43:37.502842Z"
    }
   },
   "outputs": [],
   "source": [
    "X_train_cat = X_train.iloc[:,:7]"
   ]
  },
  {
   "cell_type": "code",
   "execution_count": 30,
   "metadata": {
    "ExecuteTime": {
     "end_time": "2020-02-12T04:43:37.754321Z",
     "start_time": "2020-02-12T04:43:37.748237Z"
    }
   },
   "outputs": [],
   "source": [
    "X_train_num = X_train.iloc[:, 7:]"
   ]
  },
  {
   "cell_type": "code",
   "execution_count": 31,
   "metadata": {
    "ExecuteTime": {
     "end_time": "2020-02-12T04:43:37.987538Z",
     "start_time": "2020-02-12T04:43:37.968629Z"
    }
   },
   "outputs": [],
   "source": [
    "X_train_num_scaled = scaler.fit_transform(X_train_num)"
   ]
  },
  {
   "cell_type": "code",
   "execution_count": 32,
   "metadata": {
    "ExecuteTime": {
     "end_time": "2020-02-12T04:43:38.334936Z",
     "start_time": "2020-02-12T04:43:38.324507Z"
    }
   },
   "outputs": [],
   "source": [
    "X_train_scaled = np.column_stack((np.array(X_train_cat), X_train_num_scaled))"
   ]
  },
  {
   "cell_type": "code",
   "execution_count": 33,
   "metadata": {
    "ExecuteTime": {
     "end_time": "2020-02-12T04:43:38.540146Z",
     "start_time": "2020-02-12T04:43:38.533583Z"
    }
   },
   "outputs": [
    {
     "data": {
      "text/plain": [
       "(24000, 21)"
      ]
     },
     "execution_count": 33,
     "metadata": {},
     "output_type": "execute_result"
    }
   ],
   "source": [
    "# always check the shape of X_train_scaled and X_test_scaled\n",
    "X_train_scaled.shape"
   ]
  },
  {
   "cell_type": "code",
   "execution_count": 34,
   "metadata": {
    "ExecuteTime": {
     "end_time": "2020-02-12T04:43:38.916121Z",
     "start_time": "2020-02-12T04:43:38.908049Z"
    }
   },
   "outputs": [],
   "source": [
    "# remember you have to modify the same columns on yout test set\n",
    "X_test_scaled_part = scaler.transform(X_test.iloc[:,7:].values)"
   ]
  },
  {
   "cell_type": "code",
   "execution_count": 35,
   "metadata": {
    "ExecuteTime": {
     "end_time": "2020-02-12T04:43:39.401131Z",
     "start_time": "2020-02-12T04:43:39.395246Z"
    }
   },
   "outputs": [],
   "source": [
    "X_test_scaled = np.column_stack((X_test.iloc[:, :7].values, X_test_scaled_part))"
   ]
  },
  {
   "cell_type": "code",
   "execution_count": 36,
   "metadata": {
    "ExecuteTime": {
     "end_time": "2020-02-12T04:43:40.803320Z",
     "start_time": "2020-02-12T04:43:40.796324Z"
    }
   },
   "outputs": [
    {
     "data": {
      "text/plain": [
       "(6000, 21)"
      ]
     },
     "execution_count": 36,
     "metadata": {},
     "output_type": "execute_result"
    }
   ],
   "source": [
    "X_test_scaled.shape"
   ]
  },
  {
   "cell_type": "markdown",
   "metadata": {},
   "source": [
    "# Hyperparameter tuning "
   ]
  },
  {
   "cell_type": "code",
   "execution_count": 18,
   "metadata": {
    "ExecuteTime": {
     "end_time": "2020-02-12T04:32:48.427434Z",
     "start_time": "2020-02-12T04:32:48.421659Z"
    }
   },
   "outputs": [],
   "source": [
    "from imblearn.pipeline import Pipeline\n",
    "from sklearn.model_selection import RandomizedSearchCV\n",
    "from sklearn.metrics import fbeta_score, make_scorer\n",
    "import pprint as pp"
   ]
  },
  {
   "cell_type": "code",
   "execution_count": 20,
   "metadata": {
    "ExecuteTime": {
     "end_time": "2020-02-12T04:33:24.165171Z",
     "start_time": "2020-02-12T04:33:24.159499Z"
    }
   },
   "outputs": [],
   "source": [
    "ftwo_scorer = make_scorer(fbeta_score, beta=2) "
   ]
  },
  {
   "cell_type": "markdown",
   "metadata": {},
   "source": [
    "## Knn"
   ]
  },
  {
   "cell_type": "code",
   "execution_count": null,
   "metadata": {
    "ExecuteTime": {
     "end_time": "2020-02-12T00:59:11.974718Z",
     "start_time": "2020-02-12T00:58:09.501480Z"
    }
   },
   "outputs": [],
   "source": [
    "k_range = list(range(1, 31))\n",
    "weight_options = ['uniform', 'distance']\n",
    "ftwo_scorer = make_scorer(fbeta_score, beta=2)\n",
    "param_dist = dict(n_neighbors=k_range, weights=weight_options)\n",
    "rand = RandomizedSearchCV(KNeighborsClassifier(), param_dist, cv=5, scoring=ftwo_scorer, n_iter=10, random_state=42)\n",
    "rand.fit(X_train_scaled, y_train)"
   ]
  },
  {
   "cell_type": "code",
   "execution_count": null,
   "metadata": {
    "ExecuteTime": {
     "end_time": "2020-02-12T00:59:51.716502Z",
     "start_time": "2020-02-12T00:59:51.700777Z"
    },
    "scrolled": true
   },
   "outputs": [],
   "source": [
    "print('Best Score: ', rand.best_score_)\n",
    "print('Best Params: ', rand.best_params_)"
   ]
  },
  {
   "cell_type": "markdown",
   "metadata": {},
   "source": [
    "## Logistic"
   ]
  },
  {
   "cell_type": "code",
   "execution_count": null,
   "metadata": {
    "ExecuteTime": {
     "end_time": "2020-02-12T00:47:02.397742Z",
     "start_time": "2020-02-12T00:41:20.150239Z"
    }
   },
   "outputs": [],
   "source": [
    "penalty = ['l1', 'l2']\n",
    "C = [0.0001, 0.001, 0.01, 0.1, 1, 10, 100, 1000]\n",
    "class_weight = [{1:0.5, 0:0.5}, {1:0.4, 0:0.6}, {1:0.6, 0:0.4}, {1:0.7, 0:0.3}]\n",
    "solver = ['liblinear', 'saga']\n",
    "param_grid = dict(penalty=penalty,\n",
    "                  C=C,\n",
    "                  class_weight=class_weight,\n",
    "                  solver=solver)\n",
    "grid = GridSearchCV(estimator=LogisticRegression(),\n",
    "                    param_grid=param_grid,\n",
    "                    scoring=ftwo_scorer,\n",
    "                    verbose=1)\n",
    "grid_result = grid.fit(X_train_scaled, y_train)\n",
    "print('Best Score: ', grid_result.best_score_)\n",
    "print('Best Params: ', grid_result.best_params_)"
   ]
  },
  {
   "cell_type": "markdown",
   "metadata": {},
   "source": [
    "## XGBoost"
   ]
  },
  {
   "cell_type": "code",
   "execution_count": null,
   "metadata": {
    "ExecuteTime": {
     "end_time": "2020-02-11T22:23:23.435398Z",
     "start_time": "2020-02-11T21:55:27.316127Z"
    }
   },
   "outputs": [],
   "source": [
    "paramgrid_xgb = {\n",
    "    'classifier__n_estimators': [10, 100, 250, 500, 1000],\n",
    "    'classifier__max_depth': [3, 4, 5]\n",
    "}\n",
    "\n",
    "# Define fold parameters\n",
    "kf_xgb = StratifiedKFold(n_splits=5, shuffle=True, random_state=42)\n",
    "\n",
    "xgb = XGBClassifier()\n",
    "\n",
    "model = Pipeline([('sampling', SMOTE()), \n",
    "                  ('classifier', xgb)])\n",
    "\n",
    "grid_xgb = GridSearchCV(model, param_grid = paramgrid_xgb, n_jobs = 1, cv = kf_xgb, verbose = True)\n",
    "grid_xgb.fit(X_train_scaled, y_train)"
   ]
  },
  {
   "cell_type": "code",
   "execution_count": null,
   "metadata": {
    "ExecuteTime": {
     "end_time": "2020-02-11T22:58:57.899815Z",
     "start_time": "2020-02-11T22:58:57.884453Z"
    },
    "scrolled": true
   },
   "outputs": [],
   "source": [
    "rank_params = list(zip(grid_xgb.cv_results_['rank_test_score'], grid_xgb.cv_results_['params'], grid_xgb.cv_results_['mean_test_score']))\n",
    "pp.pprint(sorted(rank_params, key = lambda x:x[0]))"
   ]
  },
  {
   "cell_type": "code",
   "execution_count": null,
   "metadata": {
    "ExecuteTime": {
     "end_time": "2020-02-11T22:57:33.298383Z",
     "start_time": "2020-02-11T22:57:33.262885Z"
    }
   },
   "outputs": [],
   "source": [
    "grid_xgb.cv_results_['mean_test_score']"
   ]
  },
  {
   "cell_type": "code",
   "execution_count": null,
   "metadata": {
    "ExecuteTime": {
     "end_time": "2020-02-11T22:33:12.412029Z",
     "start_time": "2020-02-11T22:33:12.393492Z"
    },
    "scrolled": true
   },
   "outputs": [],
   "source": [
    "grid_xgb.best_params_"
   ]
  },
  {
   "cell_type": "markdown",
   "metadata": {},
   "source": [
    "## Random Forest"
   ]
  },
  {
   "cell_type": "code",
   "execution_count": 22,
   "metadata": {
    "ExecuteTime": {
     "end_time": "2020-02-12T04:40:04.994359Z",
     "start_time": "2020-02-12T04:36:32.050932Z"
    }
   },
   "outputs": [
    {
     "name": "stderr",
     "output_type": "stream",
     "text": [
      "/Users/luyuankong/anaconda3/lib/python3.7/site-packages/imblearn/pipeline.py:291: DataConversionWarning: A column-vector y was passed when a 1d array was expected. Please change the shape of y to (n_samples,), for example using ravel().\n",
      "  self._final_estimator.fit(Xt, yt, **fit_params)\n"
     ]
    },
    {
     "data": {
      "text/plain": [
       "GridSearchCV(cv=5, error_score=nan,\n",
       "             estimator=Pipeline(memory=None,\n",
       "                                steps=[('clf',\n",
       "                                        RandomForestClassifier(bootstrap=True,\n",
       "                                                               ccp_alpha=0.0,\n",
       "                                                               class_weight=None,\n",
       "                                                               criterion='gini',\n",
       "                                                               max_depth=None,\n",
       "                                                               max_features='auto',\n",
       "                                                               max_leaf_nodes=None,\n",
       "                                                               max_samples=None,\n",
       "                                                               min_impurity_decrease=0.0,\n",
       "                                                               min_impurity_split=None,\n",
       "                                                               min_samples_leaf=1,\n",
       "                                                               min_samples_split=2,\n",
       "                                                               min_weight_fraction_lea...,\n",
       "                                                               n_estimators=100,\n",
       "                                                               n_jobs=None,\n",
       "                                                               oob_score=False,\n",
       "                                                               random_state=None,\n",
       "                                                               verbose=0,\n",
       "                                                               warm_start=False))],\n",
       "                                verbose=False),\n",
       "             iid='deprecated', n_jobs=-1,\n",
       "             param_grid=[{'clf__max_depth': [3, 4],\n",
       "                          'clf__max_features': [5, 10, 15, 20],\n",
       "                          'clf__n_estimators': [50, 100, 150]}],\n",
       "             pre_dispatch='2*n_jobs', refit=True, return_train_score=False,\n",
       "             scoring=make_scorer(fbeta_score, beta=2), verbose=0)"
      ]
     },
     "execution_count": 22,
     "metadata": {},
     "output_type": "execute_result"
    }
   ],
   "source": [
    "pipe = Pipeline([('clf', RandomForestClassifier())])\n",
    "param_grid_rf = [{'clf__max_depth': [3, 4], 'clf__max_features': [5, 10, 15, 20], 'clf__n_estimators': [50, 100, 150]}]\n",
    "gs = GridSearchCV(pipe, param_grid_rf, cv=5, n_jobs=-1, scoring=ftwo_scorer)\n",
    "gs.fit(X_train_scaled, y_train)"
   ]
  },
  {
   "cell_type": "code",
   "execution_count": 23,
   "metadata": {
    "ExecuteTime": {
     "end_time": "2020-02-12T04:40:32.342477Z",
     "start_time": "2020-02-12T04:40:32.332474Z"
    }
   },
   "outputs": [
    {
     "data": {
      "text/plain": [
       "{'clf__max_depth': 4, 'clf__max_features': 20, 'clf__n_estimators': 100}"
      ]
     },
     "execution_count": 23,
     "metadata": {},
     "output_type": "execute_result"
    }
   ],
   "source": [
    "gs.best_params_"
   ]
  },
  {
   "cell_type": "markdown",
   "metadata": {},
   "source": [
    "# Model Selection\n",
    "## Cross Validation"
   ]
  },
  {
   "cell_type": "markdown",
   "metadata": {},
   "source": [
    "Precision is a good measure to determine, when the costs of False Positive is high. Recall shall be the model metric we use to select our best model when there is a high cost associated with False Negative.\n",
    "\n",
    "TP: defalut identified as default. we correctly identify the unreliable customes. 坏人抓到啦 \n",
    "FP: not default identified as default. Customers who are reliable are identified as default. 冤枉好人 \n",
    "TN: not default identified as not default. 好人被认出 \n",
    "FN: default identified as not default.The cutomers who are reliable are correcly identified. 坏人被认成好人\n",
    "\n",
    "Identifying accurately which customers are most probable to default represents significant business opportunity for all banks.\n",
    "\n",
    "Our clients: banks\n",
    "\n",
    "Recall shall be the model metric we use to select our best model when there is a high cost associated with False Negative.Our obejective is to help the bank identify and take action on customers with high probability of defaulting to improve their bottom line."
   ]
  },
  {
   "cell_type": "code",
   "execution_count": 37,
   "metadata": {
    "ExecuteTime": {
     "end_time": "2020-02-12T04:46:35.715466Z",
     "start_time": "2020-02-12T04:43:52.045045Z"
    }
   },
   "outputs": [
    {
     "name": "stderr",
     "output_type": "stream",
     "text": [
      "/Users/luyuankong/anaconda3/lib/python3.7/site-packages/sklearn/utils/validation.py:760: DataConversionWarning: A column-vector y was passed when a 1d array was expected. Please change the shape of y to (n_samples, ), for example using ravel().\n",
      "  y = column_or_1d(y, warn=True)\n",
      "/Users/luyuankong/anaconda3/lib/python3.7/site-packages/sklearn/utils/validation.py:760: DataConversionWarning: A column-vector y was passed when a 1d array was expected. Please change the shape of y to (n_samples, ), for example using ravel().\n",
      "  y = column_or_1d(y, warn=True)\n",
      "/Users/luyuankong/anaconda3/lib/python3.7/site-packages/sklearn/utils/validation.py:760: DataConversionWarning: A column-vector y was passed when a 1d array was expected. Please change the shape of y to (n_samples, ), for example using ravel().\n",
      "  y = column_or_1d(y, warn=True)\n",
      "/Users/luyuankong/anaconda3/lib/python3.7/site-packages/sklearn/utils/validation.py:760: DataConversionWarning: A column-vector y was passed when a 1d array was expected. Please change the shape of y to (n_samples, ), for example using ravel().\n",
      "  y = column_or_1d(y, warn=True)\n",
      "/Users/luyuankong/anaconda3/lib/python3.7/site-packages/sklearn/utils/validation.py:760: DataConversionWarning: A column-vector y was passed when a 1d array was expected. Please change the shape of y to (n_samples, ), for example using ravel().\n",
      "  y = column_or_1d(y, warn=True)\n",
      "/Users/luyuankong/anaconda3/lib/python3.7/site-packages/sklearn/utils/validation.py:760: DataConversionWarning: A column-vector y was passed when a 1d array was expected. Please change the shape of y to (n_samples, ), for example using ravel().\n",
      "  y = column_or_1d(y, warn=True)\n",
      "/Users/luyuankong/anaconda3/lib/python3.7/site-packages/sklearn/utils/validation.py:760: DataConversionWarning: A column-vector y was passed when a 1d array was expected. Please change the shape of y to (n_samples, ), for example using ravel().\n",
      "  y = column_or_1d(y, warn=True)\n",
      "/Users/luyuankong/anaconda3/lib/python3.7/site-packages/sklearn/utils/validation.py:760: DataConversionWarning: A column-vector y was passed when a 1d array was expected. Please change the shape of y to (n_samples, ), for example using ravel().\n",
      "  y = column_or_1d(y, warn=True)\n",
      "/Users/luyuankong/anaconda3/lib/python3.7/site-packages/sklearn/utils/validation.py:760: DataConversionWarning: A column-vector y was passed when a 1d array was expected. Please change the shape of y to (n_samples, ), for example using ravel().\n",
      "  y = column_or_1d(y, warn=True)\n",
      "/Users/luyuankong/anaconda3/lib/python3.7/site-packages/sklearn/utils/validation.py:760: DataConversionWarning: A column-vector y was passed when a 1d array was expected. Please change the shape of y to (n_samples, ), for example using ravel().\n",
      "  y = column_or_1d(y, warn=True)\n",
      "/Users/luyuankong/anaconda3/lib/python3.7/site-packages/sklearn/utils/validation.py:760: DataConversionWarning: A column-vector y was passed when a 1d array was expected. Please change the shape of y to (n_samples, ), for example using ravel().\n",
      "  y = column_or_1d(y, warn=True)\n",
      "/Users/luyuankong/anaconda3/lib/python3.7/site-packages/sklearn/utils/validation.py:760: DataConversionWarning: A column-vector y was passed when a 1d array was expected. Please change the shape of y to (n_samples, ), for example using ravel().\n",
      "  y = column_or_1d(y, warn=True)\n",
      "/Users/luyuankong/anaconda3/lib/python3.7/site-packages/sklearn/utils/validation.py:760: DataConversionWarning: A column-vector y was passed when a 1d array was expected. Please change the shape of y to (n_samples, ), for example using ravel().\n",
      "  y = column_or_1d(y, warn=True)\n",
      "/Users/luyuankong/anaconda3/lib/python3.7/site-packages/sklearn/utils/validation.py:760: DataConversionWarning: A column-vector y was passed when a 1d array was expected. Please change the shape of y to (n_samples, ), for example using ravel().\n",
      "  y = column_or_1d(y, warn=True)\n",
      "/Users/luyuankong/anaconda3/lib/python3.7/site-packages/sklearn/utils/validation.py:760: DataConversionWarning: A column-vector y was passed when a 1d array was expected. Please change the shape of y to (n_samples, ), for example using ravel().\n",
      "  y = column_or_1d(y, warn=True)\n",
      "/Users/luyuankong/anaconda3/lib/python3.7/site-packages/sklearn/utils/validation.py:760: DataConversionWarning: A column-vector y was passed when a 1d array was expected. Please change the shape of y to (n_samples, ), for example using ravel().\n",
      "  y = column_or_1d(y, warn=True)\n",
      "/Users/luyuankong/anaconda3/lib/python3.7/site-packages/sklearn/utils/validation.py:760: DataConversionWarning: A column-vector y was passed when a 1d array was expected. Please change the shape of y to (n_samples, ), for example using ravel().\n",
      "  y = column_or_1d(y, warn=True)\n",
      "/Users/luyuankong/anaconda3/lib/python3.7/site-packages/sklearn/utils/validation.py:760: DataConversionWarning: A column-vector y was passed when a 1d array was expected. Please change the shape of y to (n_samples, ), for example using ravel().\n",
      "  y = column_or_1d(y, warn=True)\n",
      "/Users/luyuankong/anaconda3/lib/python3.7/site-packages/sklearn/utils/validation.py:760: DataConversionWarning: A column-vector y was passed when a 1d array was expected. Please change the shape of y to (n_samples, ), for example using ravel().\n",
      "  y = column_or_1d(y, warn=True)\n",
      "/Users/luyuankong/anaconda3/lib/python3.7/site-packages/sklearn/utils/validation.py:760: DataConversionWarning: A column-vector y was passed when a 1d array was expected. Please change the shape of y to (n_samples, ), for example using ravel().\n",
      "  y = column_or_1d(y, warn=True)\n",
      "/Users/luyuankong/anaconda3/lib/python3.7/site-packages/sklearn/utils/validation.py:760: DataConversionWarning: A column-vector y was passed when a 1d array was expected. Please change the shape of y to (n_samples, ), for example using ravel().\n",
      "  y = column_or_1d(y, warn=True)\n",
      "/Users/luyuankong/anaconda3/lib/python3.7/site-packages/sklearn/svm/_base.py:947: ConvergenceWarning: Liblinear failed to converge, increase the number of iterations.\n",
      "  \"the number of iterations.\", ConvergenceWarning)\n",
      "/Users/luyuankong/anaconda3/lib/python3.7/site-packages/sklearn/utils/validation.py:760: DataConversionWarning: A column-vector y was passed when a 1d array was expected. Please change the shape of y to (n_samples, ), for example using ravel().\n",
      "  y = column_or_1d(y, warn=True)\n",
      "/Users/luyuankong/anaconda3/lib/python3.7/site-packages/sklearn/svm/_base.py:947: ConvergenceWarning: Liblinear failed to converge, increase the number of iterations.\n",
      "  \"the number of iterations.\", ConvergenceWarning)\n",
      "/Users/luyuankong/anaconda3/lib/python3.7/site-packages/sklearn/utils/validation.py:760: DataConversionWarning: A column-vector y was passed when a 1d array was expected. Please change the shape of y to (n_samples, ), for example using ravel().\n",
      "  y = column_or_1d(y, warn=True)\n",
      "/Users/luyuankong/anaconda3/lib/python3.7/site-packages/sklearn/svm/_base.py:947: ConvergenceWarning: Liblinear failed to converge, increase the number of iterations.\n",
      "  \"the number of iterations.\", ConvergenceWarning)\n",
      "/Users/luyuankong/anaconda3/lib/python3.7/site-packages/sklearn/utils/validation.py:760: DataConversionWarning: A column-vector y was passed when a 1d array was expected. Please change the shape of y to (n_samples, ), for example using ravel().\n",
      "  y = column_or_1d(y, warn=True)\n",
      "/Users/luyuankong/anaconda3/lib/python3.7/site-packages/sklearn/svm/_base.py:947: ConvergenceWarning: Liblinear failed to converge, increase the number of iterations.\n",
      "  \"the number of iterations.\", ConvergenceWarning)\n",
      "/Users/luyuankong/anaconda3/lib/python3.7/site-packages/sklearn/utils/validation.py:760: DataConversionWarning: A column-vector y was passed when a 1d array was expected. Please change the shape of y to (n_samples, ), for example using ravel().\n",
      "  y = column_or_1d(y, warn=True)\n",
      "/Users/luyuankong/anaconda3/lib/python3.7/site-packages/sklearn/svm/_base.py:947: ConvergenceWarning: Liblinear failed to converge, increase the number of iterations.\n",
      "  \"the number of iterations.\", ConvergenceWarning)\n",
      "/Users/luyuankong/anaconda3/lib/python3.7/site-packages/sklearn/utils/validation.py:760: DataConversionWarning: A column-vector y was passed when a 1d array was expected. Please change the shape of y to (n_samples, ), for example using ravel().\n",
      "  y = column_or_1d(y, warn=True)\n",
      "/Users/luyuankong/anaconda3/lib/python3.7/site-packages/sklearn/utils/validation.py:760: DataConversionWarning: A column-vector y was passed when a 1d array was expected. Please change the shape of y to (n_samples, ), for example using ravel().\n",
      "  y = column_or_1d(y, warn=True)\n",
      "/Users/luyuankong/anaconda3/lib/python3.7/site-packages/sklearn/utils/validation.py:760: DataConversionWarning: A column-vector y was passed when a 1d array was expected. Please change the shape of y to (n_samples, ), for example using ravel().\n",
      "  y = column_or_1d(y, warn=True)\n",
      "/Users/luyuankong/anaconda3/lib/python3.7/site-packages/sklearn/utils/validation.py:760: DataConversionWarning: A column-vector y was passed when a 1d array was expected. Please change the shape of y to (n_samples, ), for example using ravel().\n",
      "  y = column_or_1d(y, warn=True)\n",
      "/Users/luyuankong/anaconda3/lib/python3.7/site-packages/sklearn/utils/validation.py:760: DataConversionWarning: A column-vector y was passed when a 1d array was expected. Please change the shape of y to (n_samples, ), for example using ravel().\n",
      "  y = column_or_1d(y, warn=True)\n"
     ]
    }
   ],
   "source": [
    "kf = StratifiedKFold(n_splits = 5, shuffle = True, random_state = 42)\n",
    "\n",
    "#collect results for each model\n",
    "cv_results_recall = defaultdict(list) \n",
    "cv_results_precision = defaultdict(list) \n",
    "cv_results_f1 = defaultdict(list) \n",
    "cv_results_accuracy = defaultdict(list) \n",
    "cv_results_fbeta =  defaultdict(list)\n",
    "\n",
    "# generate indies for kf\n",
    "y_train = y_train.values\n",
    "\n",
    "# choose n_neighbors as\n",
    "models = {'Xgboost':XGBClassifier(classifier__max_depth = 4, classifier__n_estimators = 500),\n",
    "          'GNB': GaussianNB(),\n",
    "          'Logistic Regression': LogisticRegression(C= 10, class_weight= {1: 0.7, 0: 0.3}, penalty= 'l2', solver= 'liblinear'),\n",
    "          'Random Forest':RandomForestClassifier(max_depth = 4, max_features=20, n_estimators= 100),\n",
    "          'Linearsvc': LinearSVC(),\n",
    "          'Knn':KNeighborsClassifier(weights = 'uniform', n_neighbors=1)}\n",
    "          \n",
    "for model_name, model in models.items():\n",
    "    for train_ind, val_ind in kf.split(X_train_scaled, y_train):\n",
    "        X_tr, y_tr = X_train_scaled[train_ind], y_train[train_ind]\n",
    "    \n",
    "        X_smote_train, y_smote_train = SMOTE(random_state=42).fit_sample(X_tr, y_tr)\n",
    "\n",
    "        X_val,y_val = X_train_scaled[val_ind], y_train[val_ind]\n",
    "\n",
    "        model.fit(X_smote_train, y_smote_train)\n",
    "\n",
    "        y_pred = model.predict(X_val)\n",
    "\n",
    "        # calculate recall score\n",
    "        recall = recall_score(y_val, y_pred) \n",
    "\n",
    "        cv_results_recall[model_name].append(recall)\n",
    "        \n",
    "        # calculate precision score\n",
    "        \n",
    "        precision = precision_score(y_val, y_pred) \n",
    "\n",
    "        cv_results_precision[model_name].append(precision)\n",
    "        \n",
    "        # calculate f1 score\n",
    "        f1 = f1_score(y_val,y_pred)\n",
    "        \n",
    "        cv_results_f1[model_name].append(f1)\n",
    "        \n",
    "        #calculate fbeta score\n",
    "        fbeta = fbeta_score(y_val, y_pred, beta=2)\n",
    "        \n",
    "        cv_results_fbeta[model_name].append(fbeta)\n",
    "        # calculate accuracy\n",
    "        \n",
    "        accuracy = accuracy_score(y_val,y_pred)\n",
    "        \n",
    "        cv_results_accuracy[model_name].append(accuracy)"
   ]
  },
  {
   "cell_type": "code",
   "execution_count": 38,
   "metadata": {
    "ExecuteTime": {
     "end_time": "2020-02-12T04:54:43.293373Z",
     "start_time": "2020-02-12T04:54:43.259718Z"
    }
   },
   "outputs": [],
   "source": [
    "model_lst = list(cv_results_recall.keys())\n",
    "recall_mean = [np.mean(i) for i in cv_results_recall.values()]\n",
    "recall_var = [np.var(i) for i in cv_results_recall.values()]\n",
    "df_cv_recall = pd.DataFrame(\n",
    "    {'model_name': model_lst,\n",
    "     'recall_mean': recall_mean,\n",
    "     'recal_var': recall_var\n",
    "    })"
   ]
  },
  {
   "cell_type": "code",
   "execution_count": null,
   "metadata": {
    "ExecuteTime": {
     "end_time": "2020-02-12T00:53:18.325845Z",
     "start_time": "2020-02-12T00:53:18.321611Z"
    }
   },
   "outputs": [],
   "source": [
    "#the model with the best mean score and least amount of variance in performance is chosen"
   ]
  },
  {
   "cell_type": "code",
   "execution_count": 39,
   "metadata": {
    "ExecuteTime": {
     "end_time": "2020-02-12T04:54:46.761019Z",
     "start_time": "2020-02-12T04:54:46.753265Z"
    }
   },
   "outputs": [],
   "source": [
    "precision_mean = [np.mean(i) for i in cv_results_precision.values()]\n",
    "precision_var = [np.var(i) for i in cv_results_precision.values()]\n",
    "df_cv_precision = pd.DataFrame(\n",
    "    {\n",
    "     'pre_mean': precision_mean,\n",
    "     'pre_var': precision_var\n",
    "    })"
   ]
  },
  {
   "cell_type": "code",
   "execution_count": 40,
   "metadata": {
    "ExecuteTime": {
     "end_time": "2020-02-12T04:54:47.445263Z",
     "start_time": "2020-02-12T04:54:47.435458Z"
    }
   },
   "outputs": [],
   "source": [
    "fbeta_mean = [np.mean(i) for i in cv_results_fbeta.values()]\n",
    "fbeta_var = [np.var(i) for i in cv_results_fbeta.values()]\n",
    "df_cv_fbeta = pd.DataFrame(\n",
    "    {\n",
    "     'fbeta_mean': fbeta_mean,\n",
    "     'fbeta_var': fbeta_var\n",
    "    })"
   ]
  },
  {
   "cell_type": "code",
   "execution_count": 41,
   "metadata": {
    "ExecuteTime": {
     "end_time": "2020-02-12T04:54:48.364394Z",
     "start_time": "2020-02-12T04:54:48.357945Z"
    }
   },
   "outputs": [],
   "source": [
    "f1_mean = [np.mean(i) for i in cv_results_f1.values()]\n",
    "f1_var = [np.var(i) for i in cv_results_f1.values()]\n",
    "df_cv_f1 = pd.DataFrame(\n",
    "    {\n",
    "     'f1_mean': f1_mean,\n",
    "     'f1_var': f1_var\n",
    "    })"
   ]
  },
  {
   "cell_type": "code",
   "execution_count": 42,
   "metadata": {
    "ExecuteTime": {
     "end_time": "2020-02-12T04:54:49.682261Z",
     "start_time": "2020-02-12T04:54:49.671377Z"
    }
   },
   "outputs": [],
   "source": [
    "df_score = pd.concat([df_cv_recall,df_cv_precision,df_cv_f1,df_cv_fbeta], join='outer', axis=1)"
   ]
  },
  {
   "cell_type": "code",
   "execution_count": 43,
   "metadata": {
    "ExecuteTime": {
     "end_time": "2020-02-12T04:54:50.684577Z",
     "start_time": "2020-02-12T04:54:50.628360Z"
    },
    "scrolled": true
   },
   "outputs": [
    {
     "data": {
      "text/html": [
       "<div>\n",
       "<style scoped>\n",
       "    .dataframe tbody tr th:only-of-type {\n",
       "        vertical-align: middle;\n",
       "    }\n",
       "\n",
       "    .dataframe tbody tr th {\n",
       "        vertical-align: top;\n",
       "    }\n",
       "\n",
       "    .dataframe thead th {\n",
       "        text-align: right;\n",
       "    }\n",
       "</style>\n",
       "<table border=\"1\" class=\"dataframe\">\n",
       "  <thead>\n",
       "    <tr style=\"text-align: right;\">\n",
       "      <th></th>\n",
       "      <th>model_name</th>\n",
       "      <th>recall_mean</th>\n",
       "      <th>recal_var</th>\n",
       "      <th>pre_mean</th>\n",
       "      <th>pre_var</th>\n",
       "      <th>f1_mean</th>\n",
       "      <th>f1_var</th>\n",
       "      <th>fbeta_mean</th>\n",
       "      <th>fbeta_var</th>\n",
       "    </tr>\n",
       "  </thead>\n",
       "  <tbody>\n",
       "    <tr>\n",
       "      <th>0</th>\n",
       "      <td>Xgboost</td>\n",
       "      <td>0.516098</td>\n",
       "      <td>0.000509</td>\n",
       "      <td>0.387399</td>\n",
       "      <td>1.884228e-04</td>\n",
       "      <td>0.442384</td>\n",
       "      <td>0.000218</td>\n",
       "      <td>0.483781</td>\n",
       "      <td>0.000336</td>\n",
       "    </tr>\n",
       "    <tr>\n",
       "      <th>1</th>\n",
       "      <td>GNB</td>\n",
       "      <td>0.925413</td>\n",
       "      <td>0.000136</td>\n",
       "      <td>0.239530</td>\n",
       "      <td>1.224808e-05</td>\n",
       "      <td>0.380549</td>\n",
       "      <td>0.000026</td>\n",
       "      <td>0.588406</td>\n",
       "      <td>0.000052</td>\n",
       "    </tr>\n",
       "    <tr>\n",
       "      <th>2</th>\n",
       "      <td>Logistic Regression</td>\n",
       "      <td>0.948768</td>\n",
       "      <td>0.000039</td>\n",
       "      <td>0.241435</td>\n",
       "      <td>8.126128e-07</td>\n",
       "      <td>0.384916</td>\n",
       "      <td>0.000002</td>\n",
       "      <td>0.598229</td>\n",
       "      <td>0.000006</td>\n",
       "    </tr>\n",
       "    <tr>\n",
       "      <th>3</th>\n",
       "      <td>Random Forest</td>\n",
       "      <td>0.627982</td>\n",
       "      <td>0.001316</td>\n",
       "      <td>0.332112</td>\n",
       "      <td>2.250999e-04</td>\n",
       "      <td>0.433629</td>\n",
       "      <td>0.000109</td>\n",
       "      <td>0.532032</td>\n",
       "      <td>0.000306</td>\n",
       "    </tr>\n",
       "    <tr>\n",
       "      <th>4</th>\n",
       "      <td>Linearsvc</td>\n",
       "      <td>0.716144</td>\n",
       "      <td>0.000127</td>\n",
       "      <td>0.296065</td>\n",
       "      <td>2.056911e-05</td>\n",
       "      <td>0.418919</td>\n",
       "      <td>0.000035</td>\n",
       "      <td>0.557817</td>\n",
       "      <td>0.000061</td>\n",
       "    </tr>\n",
       "    <tr>\n",
       "      <th>5</th>\n",
       "      <td>Knn</td>\n",
       "      <td>0.376154</td>\n",
       "      <td>0.000056</td>\n",
       "      <td>0.283745</td>\n",
       "      <td>6.666370e-05</td>\n",
       "      <td>0.323447</td>\n",
       "      <td>0.000057</td>\n",
       "      <td>0.353125</td>\n",
       "      <td>0.000053</td>\n",
       "    </tr>\n",
       "  </tbody>\n",
       "</table>\n",
       "</div>"
      ],
      "text/plain": [
       "            model_name  recall_mean  recal_var  pre_mean       pre_var  \\\n",
       "0              Xgboost     0.516098   0.000509  0.387399  1.884228e-04   \n",
       "1                  GNB     0.925413   0.000136  0.239530  1.224808e-05   \n",
       "2  Logistic Regression     0.948768   0.000039  0.241435  8.126128e-07   \n",
       "3        Random Forest     0.627982   0.001316  0.332112  2.250999e-04   \n",
       "4            Linearsvc     0.716144   0.000127  0.296065  2.056911e-05   \n",
       "5                  Knn     0.376154   0.000056  0.283745  6.666370e-05   \n",
       "\n",
       "    f1_mean    f1_var  fbeta_mean  fbeta_var  \n",
       "0  0.442384  0.000218    0.483781   0.000336  \n",
       "1  0.380549  0.000026    0.588406   0.000052  \n",
       "2  0.384916  0.000002    0.598229   0.000006  \n",
       "3  0.433629  0.000109    0.532032   0.000306  \n",
       "4  0.418919  0.000035    0.557817   0.000061  \n",
       "5  0.323447  0.000057    0.353125   0.000053  "
      ]
     },
     "execution_count": 43,
     "metadata": {},
     "output_type": "execute_result"
    }
   ],
   "source": [
    "df_score"
   ]
  },
  {
   "cell_type": "markdown",
   "metadata": {},
   "source": [
    "## Fit model into test set"
   ]
  },
  {
   "cell_type": "code",
   "execution_count": 45,
   "metadata": {
    "ExecuteTime": {
     "end_time": "2020-02-12T04:55:56.339032Z",
     "start_time": "2020-02-12T04:55:55.525481Z"
    },
    "scrolled": true
   },
   "outputs": [
    {
     "name": "stderr",
     "output_type": "stream",
     "text": [
      "/Users/luyuankong/anaconda3/lib/python3.7/site-packages/sklearn/utils/validation.py:760: DataConversionWarning: A column-vector y was passed when a 1d array was expected. Please change the shape of y to (n_samples, ), for example using ravel().\n",
      "  y = column_or_1d(y, warn=True)\n"
     ]
    }
   ],
   "source": [
    "X_sm,y_sm = SMOTE(random_state = 42).fit_sample(X_train_scaled, y_train)"
   ]
  },
  {
   "cell_type": "code",
   "execution_count": 47,
   "metadata": {
    "ExecuteTime": {
     "end_time": "2020-02-12T04:56:13.252513Z",
     "start_time": "2020-02-12T04:56:13.245067Z"
    }
   },
   "outputs": [],
   "source": [
    "def evaluate(model_name):\n",
    "    \"\"\"\n",
    "    input: model name\n",
    "    returns recall and fbeta score when beta =2\n",
    "    \"\"\"\n",
    "    model_name.fit(X_sm, y_sm)\n",
    "    rec_s = recall_score(y_test, model_name.predict(X_test_scaled))\n",
    "    fb_s = fbeta_score(y_test, model_name.predict(X_test_scaled), beta=2)\n",
    "    return rec_s, fb_s \n",
    "    "
   ]
  },
  {
   "cell_type": "code",
   "execution_count": 55,
   "metadata": {
    "ExecuteTime": {
     "end_time": "2020-02-12T05:08:17.655304Z",
     "start_time": "2020-02-12T05:08:17.647818Z"
    }
   },
   "outputs": [],
   "source": [
    "xgb = XGBClassifier(classifier__max_depth = 4, classifier__n_estimators = 500)\n",
    "gnb = GaussianNB()\n",
    "lr = LogisticRegression(C= 10, class_weight= {1: 0.7, 0: 0.3}, penalty= 'l2', solver= 'liblinear')\n",
    "rf = RandomForestClassifier(max_depth = 4, max_features=20, n_estimators= 100)\n",
    "knn = KNeighborsClassifier(weights = 'uniform', n_neighbors=1)"
   ]
  },
  {
   "cell_type": "code",
   "execution_count": 57,
   "metadata": {
    "ExecuteTime": {
     "end_time": "2020-02-12T05:08:22.927483Z",
     "start_time": "2020-02-12T05:08:22.919912Z"
    }
   },
   "outputs": [],
   "source": [
    "mod_lst = [xgb,\n",
    "           gnb,\n",
    "           lr,\n",
    "           rf,\n",
    "           knn\n",
    "    \n",
    "]"
   ]
  },
  {
   "cell_type": "code",
   "execution_count": 59,
   "metadata": {
    "ExecuteTime": {
     "end_time": "2020-02-12T05:11:04.404459Z",
     "start_time": "2020-02-12T05:10:30.993591Z"
    }
   },
   "outputs": [],
   "source": [
    "fbeta_scr = [evaluate(m)[-1] for m in mod_lst]"
   ]
  },
  {
   "cell_type": "code",
   "execution_count": 60,
   "metadata": {
    "ExecuteTime": {
     "end_time": "2020-02-12T05:11:05.663289Z",
     "start_time": "2020-02-12T05:11:05.651281Z"
    }
   },
   "outputs": [
    {
     "data": {
      "text/plain": [
       "[(XGBClassifier(base_score=0.5, booster='gbtree', classifier__max_depth=4,\n",
       "                classifier__n_estimators=500, colsample_bylevel=1,\n",
       "                colsample_bynode=1, colsample_bytree=1, gamma=0,\n",
       "                learning_rate=0.1, max_delta_step=0, max_depth=3,\n",
       "                min_child_weight=1, missing=None, n_estimators=100, n_jobs=1,\n",
       "                nthread=None, objective='binary:logistic', random_state=0,\n",
       "                reg_alpha=0, reg_lambda=1, scale_pos_weight=1, seed=None,\n",
       "                silent=None, subsample=1, verbosity=1), 0.47930743243243246),\n",
       " (GaussianNB(priors=None, var_smoothing=1e-09), 0.5921179417999615),\n",
       " (LogisticRegression(C=10, class_weight={0: 0.3, 1: 0.7}, dual=False,\n",
       "                     fit_intercept=True, intercept_scaling=1, l1_ratio=None,\n",
       "                     max_iter=100, multi_class='auto', n_jobs=None, penalty='l2',\n",
       "                     random_state=None, solver='liblinear', tol=0.0001, verbose=0,\n",
       "                     warm_start=False), 0.6025076569678407),\n",
       " (RandomForestClassifier(bootstrap=True, ccp_alpha=0.0, class_weight=None,\n",
       "                         criterion='gini', max_depth=4, max_features=20,\n",
       "                         max_leaf_nodes=None, max_samples=None,\n",
       "                         min_impurity_decrease=0.0, min_impurity_split=None,\n",
       "                         min_samples_leaf=1, min_samples_split=2,\n",
       "                         min_weight_fraction_leaf=0.0, n_estimators=100,\n",
       "                         n_jobs=None, oob_score=False, random_state=None,\n",
       "                         verbose=0, warm_start=False), 0.5232115677321156),\n",
       " (KNeighborsClassifier(algorithm='auto', leaf_size=30, metric='minkowski',\n",
       "                       metric_params=None, n_jobs=None, n_neighbors=1, p=2,\n",
       "                       weights='uniform'), 0.3555240793201133)]"
      ]
     },
     "execution_count": 60,
     "metadata": {},
     "output_type": "execute_result"
    }
   ],
   "source": [
    "list(zip(mod_lst,fbeta_scr))"
   ]
  },
  {
   "cell_type": "markdown",
   "metadata": {},
   "source": [
    "## ROC Curve"
   ]
  },
  {
   "cell_type": "code",
   "execution_count": 61,
   "metadata": {
    "ExecuteTime": {
     "end_time": "2020-02-12T05:12:06.382126Z",
     "start_time": "2020-02-12T05:11:54.601364Z"
    }
   },
   "outputs": [],
   "source": [
    "fpr_xgb, tpr_xgb, thresholds_xgb = roc_curve(y_test, xgb.predict_proba(X_test_scaled)[:,1])\n",
    "auc_xgb = roc_auc_score(y_test, xgb.predict_proba(X_test_scaled)[:, 1]) \n",
    "\n",
    "fpr_gnb, tpr_gnb, thresholds_gnb = roc_curve(y_test, gnb.predict_proba(X_test_scaled)[:,1])\n",
    "auc_gnb = roc_auc_score(y_test, gnb.predict_proba(X_test_scaled)[:, 1]) \n",
    "\n",
    "fpr_lr, tpr_lr, thresholds_lr = roc_curve(y_test, lr.predict_proba(X_test_scaled)[:,1])\n",
    "auc_lr = roc_auc_score(y_test, lr.predict_proba(X_test_scaled)[:, 1]) \n",
    "\n",
    "fpr_rf, tpr_rf, thresholds_rf = roc_curve(y_test, rf.predict_proba(X_test_scaled)[:,1])\n",
    "auc_rf = roc_auc_score(y_test, rf.predict_proba(X_test_scaled)[:, 1]) \n",
    "\n",
    "fpr_knn, tpr_knn, thresholds_knn = roc_curve(y_test, knn.predict_proba(X_test_scaled)[:,1])\n",
    "auc_knn = roc_auc_score(y_test, knn.predict_proba(X_test_scaled)[:, 1]) "
   ]
  },
  {
   "cell_type": "code",
   "execution_count": 62,
   "metadata": {
    "ExecuteTime": {
     "end_time": "2020-02-12T05:12:25.405526Z",
     "start_time": "2020-02-12T05:12:24.997396Z"
    }
   },
   "outputs": [
    {
     "data": {
      "image/png": "[encoded data removed]",
      "text/plain": [
       "<Figure size 432x288 with 1 Axes>"
      ]
     },
     "metadata": {
      "needs_background": "light"
     },
     "output_type": "display_data"
    }
   ],
   "source": [
    "plt.plot(fpr_lr, tpr_lr, lw=1, label='Logistic Regression')\n",
    "plt.plot(fpr_knn, tpr_knn, lw=1, label='KNN')\n",
    "plt.plot(fpr_gnb, tpr_gnb, lw=1, label='Gaussian NB')\n",
    "plt.plot(fpr_rf, tpr_rf, lw=1, label='Random Forest')\n",
    "plt.plot(fpr_xgb, tpr_xgb, lw=1, label='XGBoost')\n",
    "\n",
    "\n",
    "plt.plot([0, 1], [0, 1], c='violet', ls='--')\n",
    "plt.xlim([-0.05, 1.05])\n",
    "plt.ylim([-0.05, 1.05])\n",
    "\n",
    "plt.xlabel('False Positive Rate')\n",
    "plt.ylabel('True Positive Rate')\n",
    "plt.title('Model Comparison - ROC curve')\n",
    "plt.legend(ncol=2, fontsize='small')\n",
    "sns.despine()\n",
    "plt.savefig('model_comp_roc_scaled_2.png')"
   ]
  },
  {
   "cell_type": "markdown",
   "metadata": {},
   "source": [
    "# Confusion Matrix"
   ]
  },
  {
   "cell_type": "code",
   "execution_count": 125,
   "metadata": {
    "ExecuteTime": {
     "end_time": "2020-02-12T20:03:59.258945Z",
     "start_time": "2020-02-12T20:03:59.232517Z"
    }
   },
   "outputs": [
    {
     "data": {
      "text/html": [
       "<div>\n",
       "<style scoped>\n",
       "    .dataframe tbody tr th:only-of-type {\n",
       "        vertical-align: middle;\n",
       "    }\n",
       "\n",
       "    .dataframe tbody tr th {\n",
       "        vertical-align: top;\n",
       "    }\n",
       "\n",
       "    .dataframe thead th {\n",
       "        text-align: right;\n",
       "    }\n",
       "</style>\n",
       "<table border=\"1\" class=\"dataframe\">\n",
       "  <thead>\n",
       "    <tr style=\"text-align: right;\">\n",
       "      <th></th>\n",
       "      <th>0</th>\n",
       "      <th>1</th>\n",
       "    </tr>\n",
       "  </thead>\n",
       "  <tbody>\n",
       "    <tr>\n",
       "      <th>0</th>\n",
       "      <td>TN</td>\n",
       "      <td>FP</td>\n",
       "    </tr>\n",
       "    <tr>\n",
       "      <th>1</th>\n",
       "      <td>FN</td>\n",
       "      <td>TP</td>\n",
       "    </tr>\n",
       "  </tbody>\n",
       "</table>\n",
       "</div>"
      ],
      "text/plain": [
       "    0   1\n",
       "0  TN  FP\n",
       "1  FN  TP"
      ]
     },
     "execution_count": 125,
     "metadata": {},
     "output_type": "execute_result"
    }
   ],
   "source": [
    "annots = pd.DataFrame([['TN', 'FP'], ['FN', 'TP']])\n",
    "type(annots)\n",
    "annots"
   ]
  },
  {
   "cell_type": "code",
   "execution_count": 106,
   "metadata": {
    "ExecuteTime": {
     "end_time": "2020-02-12T06:55:51.107070Z",
     "start_time": "2020-02-12T06:55:51.083467Z"
    }
   },
   "outputs": [
    {
     "name": "stdout",
     "output_type": "stream",
     "text": [
      "Threshold of 0.96:\n",
      "Precision: 0.2776, Recall: 0.6669, Fbeta :0.5208\n"
     ]
    }
   ],
   "source": [
    "# using the new threshold of 0.96\n",
    "y_predict_gnb = (gnb.predict_proba(X_test_scaled)[:,1] > 0.96)\n",
    "print(\"Threshold of 0.96:\")\n",
    "print(\"Precision: {:6.4f}, Recall: {:6.4f}, Fbeta :{:6.4f}\".format(precision_score(y_test, y_predict_gnb), \n",
    "                                                     recall_score(y_test, y_predict_gnb),\n",
    "                                                     fbeta_score(y_test, y_predict_gnb, beta=2 )))"
   ]
  },
  {
   "cell_type": "code",
   "execution_count": 107,
   "metadata": {
    "ExecuteTime": {
     "end_time": "2020-02-12T06:55:51.693484Z",
     "start_time": "2020-02-12T06:55:51.427799Z"
    }
   },
   "outputs": [
    {
     "data": {
      "image/png": "[encoded data removed]",
      "text/plain": [
       "<Figure size 900x600 with 2 Axes>"
      ]
     },
     "metadata": {
      "needs_background": "light"
     },
     "output_type": "display_data"
    },
    {
     "data": {
      "text/plain": [
       "<Figure size 432x288 with 0 Axes>"
      ]
     },
     "metadata": {},
     "output_type": "display_data"
    }
   ],
   "source": [
    "# Print confusion matrix for Gaussian NB\n",
    "gnb_confusion = confusion_matrix(y_test, y_predict_gnb)\n",
    "\n",
    "plt.figure(dpi=150)\n",
    "sns.heatmap(gnb_confusion, cmap=plt.cm.Blues, annot=True,\n",
    "            square=True,\n",
    "           xticklabels=['No Default', 'Default'],\n",
    "           yticklabels=['No Default', 'Default']);\n",
    "\n",
    "b, t = plt.ylim()  # discover the values for bottom and top\n",
    "b += 0.5  # Add 0.5 to the bottom\n",
    "t -= 0.5  # Subtract 0.5 from the top\n",
    "plt.ylim(b, t)  # update the ylim(bottom, top) values\n",
    "\n",
    "plt.xlabel('Prediction', size=15)\n",
    "plt.ylabel('Actual', rotation=0, labelpad=40,size=15)\n",
    "plt.title('GaussianNB Confusion Matrix');\n",
    "plt.show()\n",
    "plt.savefig('confusion_gnb_scaled_2.png')"
   ]
  },
  {
   "cell_type": "code",
   "execution_count": 126,
   "metadata": {
    "ExecuteTime": {
     "end_time": "2020-02-12T21:01:12.975597Z",
     "start_time": "2020-02-12T21:01:12.931586Z"
    }
   },
   "outputs": [
    {
     "name": "stdout",
     "output_type": "stream",
     "text": [
      "Threshold of 0.7:\n",
      "Precision: 0.3065, Recall: 0.5855, Fbeta :0.4953\n"
     ]
    }
   ],
   "source": [
    "# using the new threshold of 0.5\n",
    "y_predict_lr = (lr.predict_proba(X_test_scaled)[:,1] > 0.73)\n",
    "print(\"Threshold of 0.7:\")\n",
    "print(\"Precision: {:6.4f}, Recall: {:6.4f}, Fbeta :{:6.4f}\".format(precision_score(y_test, y_predict_lr), \n",
    "                                                     recall_score(y_test, y_predict_lr),\n",
    "                                                     fbeta_score(y_test, y_predict_lr, beta=2 )))"
   ]
  },
  {
   "cell_type": "code",
   "execution_count": 127,
   "metadata": {
    "ExecuteTime": {
     "end_time": "2020-02-12T21:01:13.848133Z",
     "start_time": "2020-02-12T21:01:13.471535Z"
    }
   },
   "outputs": [
    {
     "data": {
      "image/png": "[encoded data removed]",
      "text/plain": [
       "<Figure size 900x600 with 2 Axes>"
      ]
     },
     "metadata": {
      "needs_background": "light"
     },
     "output_type": "display_data"
    },
    {
     "data": {
      "text/plain": [
       "<Figure size 432x288 with 0 Axes>"
      ]
     },
     "metadata": {},
     "output_type": "display_data"
    }
   ],
   "source": [
    "# Print confusion matrix for Gaussian NB\n",
    "lr_confusion = confusion_matrix(y_test, y_predict_lr)\n",
    "\n",
    "plt.figure(dpi=150)\n",
    "sns.heatmap(lr_confusion, cmap=plt.cm.Blues, annot=True,\n",
    "            square=True,\n",
    "           xticklabels=['No Default(0)', 'Default(1)'],\n",
    "           yticklabels=['No Default(0)', 'Default(1)']);\n",
    "\n",
    "b, t = plt.ylim()  # discover the values for bottom and top\n",
    "b += 0.5  # Add 0.5 to the bottom\n",
    "t -= 0.5  # Subtract 0.5 from the top\n",
    "plt.ylim(b, t)  # update the ylim(bottom, top) values\n",
    "\n",
    "plt.xlabel('Prediction', size=15)\n",
    "plt.ylabel('Actual', rotation=0, labelpad=40,size=15)\n",
    "plt.title('Logistic Confusion Matrix');\n",
    "plt.show()\n",
    "plt.savefig('confusion_logistic_scaled.png')"
   ]
  },
  {
   "cell_type": "markdown",
   "metadata": {},
   "source": [
    "# Feature Importance"
   ]
  },
  {
   "cell_type": "code",
   "execution_count": 131,
   "metadata": {
    "ExecuteTime": {
     "end_time": "2020-02-12T23:20:54.862154Z",
     "start_time": "2020-02-12T23:20:54.824032Z"
    }
   },
   "outputs": [
    {
     "data": {
      "text/plain": [
       "array([[-0.18551486,  1.59074196,  1.5351035 ,  1.58402208,  0.45608548,\n",
       "         0.25031792, -0.03584555,  0.0385044 , -0.39442327, -0.60388161,\n",
       "         0.42546033, -0.02712567,  0.10218215,  0.35401891, -0.02354116,\n",
       "        -0.39317892, -0.33769648, -0.09779742, -0.15028123, -0.03755609,\n",
       "        -0.0470378 ]])"
      ]
     },
     "execution_count": 131,
     "metadata": {},
     "output_type": "execute_result"
    }
   ],
   "source": [
    "lr.coef_"
   ]
  },
  {
   "cell_type": "code",
   "execution_count": 134,
   "metadata": {
    "ExecuteTime": {
     "end_time": "2020-02-13T07:03:54.383941Z",
     "start_time": "2020-02-13T07:03:54.366131Z"
    }
   },
   "outputs": [
    {
     "data": {
      "text/plain": [
       "Index(['gender', 'graduate school', 'high school', 'university', 'married',\n",
       "       'single', 'count_pay_duly', 'age', 'limit_bal', 'bill_amt1',\n",
       "       'bill_amt2', 'bill_amt3', 'bill_amt4', 'bill_amt5', 'bill_amt6',\n",
       "       'pay_amt1', 'pay_amt2', 'pay_amt3', 'pay_amt4', 'pay_amt5', 'pay_amt6'],\n",
       "      dtype='object')"
      ]
     },
     "execution_count": 134,
     "metadata": {},
     "output_type": "execute_result"
    }
   ],
   "source": [
    "X.columns"
   ]
  },
  {
   "cell_type": "code",
   "execution_count": 135,
   "metadata": {
    "ExecuteTime": {
     "end_time": "2020-02-13T07:04:24.572540Z",
     "start_time": "2020-02-13T07:04:24.513640Z"
    }
   },
   "outputs": [
    {
     "data": {
      "text/plain": [
       "0        1\n",
       "1        1\n",
       "2        0\n",
       "3        0\n",
       "4        0\n",
       "5        0\n",
       "6        0\n",
       "7        0\n",
       "8        0\n",
       "9        0\n",
       "10       0\n",
       "11       0\n",
       "12       0\n",
       "13       1\n",
       "14       0\n",
       "15       0\n",
       "16       1\n",
       "17       0\n",
       "18       0\n",
       "19       0\n",
       "20       0\n",
       "21       1\n",
       "22       1\n",
       "23       1\n",
       "24       0\n",
       "25       0\n",
       "26       1\n",
       "27       0\n",
       "28       0\n",
       "29       0\n",
       "        ..\n",
       "29970    0\n",
       "29971    0\n",
       "29972    0\n",
       "29973    1\n",
       "29974    1\n",
       "29975    0\n",
       "29976    1\n",
       "29977    0\n",
       "29978    0\n",
       "29979    0\n",
       "29980    0\n",
       "29981    0\n",
       "29982    1\n",
       "29983    0\n",
       "29984    0\n",
       "29985    0\n",
       "29986    0\n",
       "29987    0\n",
       "29988    0\n",
       "29989    0\n",
       "29990    0\n",
       "29991    1\n",
       "29992    0\n",
       "29993    0\n",
       "29994    1\n",
       "29995    0\n",
       "29996    0\n",
       "29997    1\n",
       "29998    1\n",
       "29999    1\n",
       "Name: default, Length: 30000, dtype: int64"
      ]
     },
     "execution_count": 135,
     "metadata": {},
     "output_type": "execute_result"
    }
   ],
   "source": [
    "clean_df.default"
   ]
  },
  {
   "cell_type": "code",
   "execution_count": 98,
   "metadata": {
    "ExecuteTime": {
     "end_time": "2020-02-12T05:59:49.777182Z",
     "start_time": "2020-02-12T05:59:49.759832Z"
    }
   },
   "outputs": [],
   "source": [
    "lr_coefs = pd.DataFrame(sorted(list(zip(X.columns, lr.coef_[0])),\n",
    "                                   key=(lambda x: x[1]),\n",
    "                                   reverse=True),\n",
    "                            columns=['Feature', 'Coefficient'])"
   ]
  },
  {
   "cell_type": "code",
   "execution_count": 99,
   "metadata": {
    "ExecuteTime": {
     "end_time": "2020-02-12T05:59:59.020409Z",
     "start_time": "2020-02-12T05:59:59.005914Z"
    }
   },
   "outputs": [
    {
     "data": {
      "text/html": [
       "<div>\n",
       "<style scoped>\n",
       "    .dataframe tbody tr th:only-of-type {\n",
       "        vertical-align: middle;\n",
       "    }\n",
       "\n",
       "    .dataframe tbody tr th {\n",
       "        vertical-align: top;\n",
       "    }\n",
       "\n",
       "    .dataframe thead th {\n",
       "        text-align: right;\n",
       "    }\n",
       "</style>\n",
       "<table border=\"1\" class=\"dataframe\">\n",
       "  <thead>\n",
       "    <tr style=\"text-align: right;\">\n",
       "      <th></th>\n",
       "      <th>Feature</th>\n",
       "      <th>Coefficient</th>\n",
       "    </tr>\n",
       "  </thead>\n",
       "  <tbody>\n",
       "    <tr>\n",
       "      <th>0</th>\n",
       "      <td>graduate school</td>\n",
       "      <td>1.590742</td>\n",
       "    </tr>\n",
       "    <tr>\n",
       "      <th>1</th>\n",
       "      <td>university</td>\n",
       "      <td>1.584022</td>\n",
       "    </tr>\n",
       "    <tr>\n",
       "      <th>2</th>\n",
       "      <td>high school</td>\n",
       "      <td>1.535104</td>\n",
       "    </tr>\n",
       "    <tr>\n",
       "      <th>3</th>\n",
       "      <td>married</td>\n",
       "      <td>0.456085</td>\n",
       "    </tr>\n",
       "    <tr>\n",
       "      <th>4</th>\n",
       "      <td>bill_amt2</td>\n",
       "      <td>0.425460</td>\n",
       "    </tr>\n",
       "    <tr>\n",
       "      <th>5</th>\n",
       "      <td>bill_amt5</td>\n",
       "      <td>0.354019</td>\n",
       "    </tr>\n",
       "    <tr>\n",
       "      <th>6</th>\n",
       "      <td>single</td>\n",
       "      <td>0.250318</td>\n",
       "    </tr>\n",
       "    <tr>\n",
       "      <th>7</th>\n",
       "      <td>bill_amt4</td>\n",
       "      <td>0.102182</td>\n",
       "    </tr>\n",
       "    <tr>\n",
       "      <th>8</th>\n",
       "      <td>age</td>\n",
       "      <td>0.038504</td>\n",
       "    </tr>\n",
       "    <tr>\n",
       "      <th>9</th>\n",
       "      <td>bill_amt6</td>\n",
       "      <td>-0.023541</td>\n",
       "    </tr>\n",
       "    <tr>\n",
       "      <th>10</th>\n",
       "      <td>bill_amt3</td>\n",
       "      <td>-0.027126</td>\n",
       "    </tr>\n",
       "    <tr>\n",
       "      <th>11</th>\n",
       "      <td>count_pay_duly</td>\n",
       "      <td>-0.035846</td>\n",
       "    </tr>\n",
       "    <tr>\n",
       "      <th>12</th>\n",
       "      <td>pay_amt5</td>\n",
       "      <td>-0.037556</td>\n",
       "    </tr>\n",
       "    <tr>\n",
       "      <th>13</th>\n",
       "      <td>pay_amt6</td>\n",
       "      <td>-0.047038</td>\n",
       "    </tr>\n",
       "    <tr>\n",
       "      <th>14</th>\n",
       "      <td>pay_amt3</td>\n",
       "      <td>-0.097797</td>\n",
       "    </tr>\n",
       "    <tr>\n",
       "      <th>15</th>\n",
       "      <td>pay_amt4</td>\n",
       "      <td>-0.150281</td>\n",
       "    </tr>\n",
       "    <tr>\n",
       "      <th>16</th>\n",
       "      <td>gender</td>\n",
       "      <td>-0.185515</td>\n",
       "    </tr>\n",
       "    <tr>\n",
       "      <th>17</th>\n",
       "      <td>pay_amt2</td>\n",
       "      <td>-0.337696</td>\n",
       "    </tr>\n",
       "    <tr>\n",
       "      <th>18</th>\n",
       "      <td>pay_amt1</td>\n",
       "      <td>-0.393179</td>\n",
       "    </tr>\n",
       "    <tr>\n",
       "      <th>19</th>\n",
       "      <td>limit_bal</td>\n",
       "      <td>-0.394423</td>\n",
       "    </tr>\n",
       "    <tr>\n",
       "      <th>20</th>\n",
       "      <td>bill_amt1</td>\n",
       "      <td>-0.603882</td>\n",
       "    </tr>\n",
       "  </tbody>\n",
       "</table>\n",
       "</div>"
      ],
      "text/plain": [
       "            Feature  Coefficient\n",
       "0   graduate school     1.590742\n",
       "1        university     1.584022\n",
       "2       high school     1.535104\n",
       "3           married     0.456085\n",
       "4         bill_amt2     0.425460\n",
       "5         bill_amt5     0.354019\n",
       "6            single     0.250318\n",
       "7         bill_amt4     0.102182\n",
       "8               age     0.038504\n",
       "9         bill_amt6    -0.023541\n",
       "10        bill_amt3    -0.027126\n",
       "11   count_pay_duly    -0.035846\n",
       "12         pay_amt5    -0.037556\n",
       "13         pay_amt6    -0.047038\n",
       "14         pay_amt3    -0.097797\n",
       "15         pay_amt4    -0.150281\n",
       "16           gender    -0.185515\n",
       "17         pay_amt2    -0.337696\n",
       "18         pay_amt1    -0.393179\n",
       "19        limit_bal    -0.394423\n",
       "20        bill_amt1    -0.603882"
      ]
     },
     "execution_count": 99,
     "metadata": {},
     "output_type": "execute_result"
    }
   ],
   "source": [
    "lr_coefs #corresponds to outcome 1 which is default"
   ]
  },
  {
   "cell_type": "code",
   "execution_count": null,
   "metadata": {},
   "outputs": [],
   "source": []
  },
  {
   "cell_type": "code",
   "execution_count": 132,
   "metadata": {
    "ExecuteTime": {
     "end_time": "2020-02-13T06:43:15.460772Z",
     "start_time": "2020-02-13T06:43:14.923307Z"
    }
   },
   "outputs": [
    {
     "data": {
      "image/png": "[encoded data removed]",
      "text/plain": [
       "<Figure size 640x480 with 1 Axes>"
      ]
     },
     "metadata": {},
     "output_type": "display_data"
    }
   ],
   "source": [
    "from matplotlib.pyplot import figure\n",
    "figure(num=None, figsize=(8, 6), dpi=80, facecolor='w', edgecolor='k')\n",
    "\n",
    "lr_coefs['Odds'] = np.exp(lr_coefs.Coefficient)\n",
    "plt.barh(lr_coefs['Feature'], width=lr_coefs['Coefficient'])\n",
    "plt.title('Feature Importance')\n",
    "plt.grid(b=False)\n",
    "sns.despine()"
   ]
  },
  {
   "cell_type": "code",
   "execution_count": 124,
   "metadata": {
    "ExecuteTime": {
     "end_time": "2020-02-12T20:02:55.260595Z",
     "start_time": "2020-02-12T20:02:55.231262Z"
    }
   },
   "outputs": [],
   "source": [
    "with open(\"lr_coefs.pkl\", \"wb\") as f:\n",
    "    pickle.dump(lr_coefs, f)"
   ]
  },
  {
   "cell_type": "code",
   "execution_count": 129,
   "metadata": {
    "ExecuteTime": {
     "end_time": "2020-02-12T22:14:39.676965Z",
     "start_time": "2020-02-12T22:14:39.610430Z"
    }
   },
   "outputs": [
    {
     "data": {
      "text/html": [
       "<div>\n",
       "<style scoped>\n",
       "    .dataframe tbody tr th:only-of-type {\n",
       "        vertical-align: middle;\n",
       "    }\n",
       "\n",
       "    .dataframe tbody tr th {\n",
       "        vertical-align: top;\n",
       "    }\n",
       "\n",
       "    .dataframe thead th {\n",
       "        text-align: right;\n",
       "    }\n",
       "</style>\n",
       "<table border=\"1\" class=\"dataframe\">\n",
       "  <thead>\n",
       "    <tr style=\"text-align: right;\">\n",
       "      <th></th>\n",
       "      <th>Feature</th>\n",
       "      <th>Coefficient</th>\n",
       "      <th>Odds</th>\n",
       "    </tr>\n",
       "  </thead>\n",
       "  <tbody>\n",
       "    <tr>\n",
       "      <th>0</th>\n",
       "      <td>graduate school</td>\n",
       "      <td>1.590742</td>\n",
       "      <td>4.907389</td>\n",
       "    </tr>\n",
       "    <tr>\n",
       "      <th>1</th>\n",
       "      <td>university</td>\n",
       "      <td>1.584022</td>\n",
       "      <td>4.874522</td>\n",
       "    </tr>\n",
       "    <tr>\n",
       "      <th>2</th>\n",
       "      <td>high school</td>\n",
       "      <td>1.535104</td>\n",
       "      <td>4.641806</td>\n",
       "    </tr>\n",
       "    <tr>\n",
       "      <th>3</th>\n",
       "      <td>married</td>\n",
       "      <td>0.456085</td>\n",
       "      <td>1.577885</td>\n",
       "    </tr>\n",
       "    <tr>\n",
       "      <th>4</th>\n",
       "      <td>bill_amt2</td>\n",
       "      <td>0.425460</td>\n",
       "      <td>1.530295</td>\n",
       "    </tr>\n",
       "    <tr>\n",
       "      <th>5</th>\n",
       "      <td>bill_amt5</td>\n",
       "      <td>0.354019</td>\n",
       "      <td>1.424782</td>\n",
       "    </tr>\n",
       "    <tr>\n",
       "      <th>6</th>\n",
       "      <td>single</td>\n",
       "      <td>0.250318</td>\n",
       "      <td>1.284434</td>\n",
       "    </tr>\n",
       "    <tr>\n",
       "      <th>7</th>\n",
       "      <td>bill_amt4</td>\n",
       "      <td>0.102182</td>\n",
       "      <td>1.107585</td>\n",
       "    </tr>\n",
       "    <tr>\n",
       "      <th>8</th>\n",
       "      <td>age</td>\n",
       "      <td>0.038504</td>\n",
       "      <td>1.039255</td>\n",
       "    </tr>\n",
       "    <tr>\n",
       "      <th>9</th>\n",
       "      <td>bill_amt6</td>\n",
       "      <td>-0.023541</td>\n",
       "      <td>0.976734</td>\n",
       "    </tr>\n",
       "    <tr>\n",
       "      <th>10</th>\n",
       "      <td>bill_amt3</td>\n",
       "      <td>-0.027126</td>\n",
       "      <td>0.973239</td>\n",
       "    </tr>\n",
       "    <tr>\n",
       "      <th>11</th>\n",
       "      <td>count_pay_duly</td>\n",
       "      <td>-0.035846</td>\n",
       "      <td>0.964789</td>\n",
       "    </tr>\n",
       "    <tr>\n",
       "      <th>12</th>\n",
       "      <td>pay_amt5</td>\n",
       "      <td>-0.037556</td>\n",
       "      <td>0.963140</td>\n",
       "    </tr>\n",
       "    <tr>\n",
       "      <th>13</th>\n",
       "      <td>pay_amt6</td>\n",
       "      <td>-0.047038</td>\n",
       "      <td>0.954051</td>\n",
       "    </tr>\n",
       "    <tr>\n",
       "      <th>14</th>\n",
       "      <td>pay_amt3</td>\n",
       "      <td>-0.097797</td>\n",
       "      <td>0.906833</td>\n",
       "    </tr>\n",
       "    <tr>\n",
       "      <th>15</th>\n",
       "      <td>pay_amt4</td>\n",
       "      <td>-0.150281</td>\n",
       "      <td>0.860466</td>\n",
       "    </tr>\n",
       "    <tr>\n",
       "      <th>16</th>\n",
       "      <td>gender</td>\n",
       "      <td>-0.185515</td>\n",
       "      <td>0.830676</td>\n",
       "    </tr>\n",
       "    <tr>\n",
       "      <th>17</th>\n",
       "      <td>pay_amt2</td>\n",
       "      <td>-0.337696</td>\n",
       "      <td>0.713412</td>\n",
       "    </tr>\n",
       "    <tr>\n",
       "      <th>18</th>\n",
       "      <td>pay_amt1</td>\n",
       "      <td>-0.393179</td>\n",
       "      <td>0.674908</td>\n",
       "    </tr>\n",
       "    <tr>\n",
       "      <th>19</th>\n",
       "      <td>limit_bal</td>\n",
       "      <td>-0.394423</td>\n",
       "      <td>0.674069</td>\n",
       "    </tr>\n",
       "    <tr>\n",
       "      <th>20</th>\n",
       "      <td>bill_amt1</td>\n",
       "      <td>-0.603882</td>\n",
       "      <td>0.546685</td>\n",
       "    </tr>\n",
       "  </tbody>\n",
       "</table>\n",
       "</div>"
      ],
      "text/plain": [
       "            Feature  Coefficient      Odds\n",
       "0   graduate school     1.590742  4.907389\n",
       "1        university     1.584022  4.874522\n",
       "2       high school     1.535104  4.641806\n",
       "3           married     0.456085  1.577885\n",
       "4         bill_amt2     0.425460  1.530295\n",
       "5         bill_amt5     0.354019  1.424782\n",
       "6            single     0.250318  1.284434\n",
       "7         bill_amt4     0.102182  1.107585\n",
       "8               age     0.038504  1.039255\n",
       "9         bill_amt6    -0.023541  0.976734\n",
       "10        bill_amt3    -0.027126  0.973239\n",
       "11   count_pay_duly    -0.035846  0.964789\n",
       "12         pay_amt5    -0.037556  0.963140\n",
       "13         pay_amt6    -0.047038  0.954051\n",
       "14         pay_amt3    -0.097797  0.906833\n",
       "15         pay_amt4    -0.150281  0.860466\n",
       "16           gender    -0.185515  0.830676\n",
       "17         pay_amt2    -0.337696  0.713412\n",
       "18         pay_amt1    -0.393179  0.674908\n",
       "19        limit_bal    -0.394423  0.674069\n",
       "20        bill_amt1    -0.603882  0.546685"
      ]
     },
     "execution_count": 129,
     "metadata": {},
     "output_type": "execute_result"
    }
   ],
   "source": [
    "lr_coefs"
   ]
  },
  {
   "cell_type": "code",
   "execution_count": 128,
   "metadata": {
    "ExecuteTime": {
     "end_time": "2020-02-12T21:47:54.497164Z",
     "start_time": "2020-02-12T21:47:54.473774Z"
    }
   },
   "outputs": [
    {
     "data": {
      "text/plain": [
       "0.2580269283694775"
      ]
     },
     "execution_count": 128,
     "metadata": {},
     "output_type": "execute_result"
    }
   ],
   "source": [
    "\n",
    "# convert intercept log-odds to probability\n",
    "logodds = lr.intercept_\n",
    "odds = np.exp(logodds)\n",
    "prob = odds / (1 + odds)\n",
    "prob[0]\n"
   ]
  },
  {
   "cell_type": "code",
   "execution_count": null,
   "metadata": {},
   "outputs": [],
   "source": []
  }
 ],
 "metadata": {
  "kernelspec": {
   "display_name": "Python 3",
   "language": "python",
   "name": "python3"
  },
  "language_info": {
   "codemirror_mode": {
    "name": "ipython",
    "version": 3
   },
   "file_extension": ".py",
   "mimetype": "text/x-python",
   "name": "python",
   "nbconvert_exporter": "python",
   "pygments_lexer": "ipython3",
   "version": "3.7.3"
  },
  "toc": {
   "base_numbering": 1,
   "nav_menu": {},
   "number_sections": true,
   "sideBar": true,
   "skip_h1_title": false,
   "title_cell": "Table of Contents",
   "title_sidebar": "Contents",
   "toc_cell": false,
   "toc_position": {
    "height": "calc(100% - 180px)",
    "left": "10px",
    "top": "150px",
    "width": "165px"
   },
   "toc_section_display": true,
   "toc_window_display": true
  }
 },
 "nbformat": 4,
 "nbformat_minor": 4
}
